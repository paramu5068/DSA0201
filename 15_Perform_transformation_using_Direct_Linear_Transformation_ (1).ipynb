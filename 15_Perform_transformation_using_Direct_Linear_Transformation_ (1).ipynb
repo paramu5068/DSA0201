{
  "nbformat": 4,
  "nbformat_minor": 0,
  "metadata": {
    "colab": {
      "provenance": []
    },
    "kernelspec": {
      "name": "python3",
      "display_name": "Python 3"
    },
    "language_info": {
      "name": "python"
    }
  },
  "cells": [
    {
      "cell_type": "code",
      "execution_count": 3,
      "metadata": {
        "colab": {
          "base_uri": "https://localhost:8080/"
        },
        "id": "MdEfuZqZ7L_k",
        "outputId": "a3bc21d9-ab5f-4b58-ce14-7b403642ec3d"
      },
      "outputs": [
        {
          "output_type": "stream",
          "name": "stdout",
          "text": [
            "Homography Matrix:\n",
            "[[ 6.66666667e-01 -7.22483931e-17  0.00000000e+00]\n",
            " [-8.32667268e-17  6.66666667e-01  8.32667268e-17]\n",
            " [ 8.89856349e-17 -3.71840817e-16  3.33333333e-01]]\n",
            "Transformed Points:\n",
            "[[ 0.00000000e+00  2.49800181e-16]\n",
            " [ 2.00000000e+00  0.00000000e+00]\n",
            " [ 2.00000000e+00  2.00000000e+00]\n",
            " [-2.16745179e-16  2.00000000e+00]]\n"
          ]
        }
      ],
      "source": [
        "import numpy as np\n",
        "xy1 = np.array([[0, 0], [1, 0], [1, 1], [0, 1]])\n",
        "xy2 = np.array([[0, 0], [2, 0], [2, 2], [0, 2]])\n",
        "N = xy1.shape[0]\n",
        "A = []\n",
        "for i in range(N):\n",
        "    x1, y1 = xy1[i]\n",
        "    x2, y2 = xy2[i]\n",
        "\n",
        "    A.append([-x1, -y1, -1, 0, 0, 0, x1*x2, y1*x2, x2])\n",
        "    A.append([0, 0, 0, -x1, -y1, -1, x1*y2, y1*y2, y2])\n",
        "A = np.array(A)\n",
        "\n",
        "_, _, VT = np.linalg.svd(A)\n",
        "h = VT[-1]\n",
        "H = h.reshape(3, 3)\n",
        "print(\"Homography Matrix:\")\n",
        "print(H)\n",
        "\n",
        "ones = np.ones((xy1.shape[0], 1))\n",
        "xy1_homogeneous = np.hstack((xy1, ones))\n",
        "\n",
        "xy2_homogeneous = xy1_homogeneous @ H.T\n",
        "\n",
        "xy2_transformed = xy2_homogeneous[:, :2] / xy2_homogeneous[:, 2].reshape(-1, 1)\n",
        "\n",
        "print(\"Transformed Points:\")\n",
        "print(xy2_transformed)\n"
      ]
    }
  ]
}